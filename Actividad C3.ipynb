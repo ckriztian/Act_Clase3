{
 "cells": [
  {
   "cell_type": "markdown",
   "metadata": {},
   "source": [
    "Crear una lista que contenga nombres de provincias argentinas e imprimir en pantalla."
   ]
  },
  {
   "cell_type": "code",
   "execution_count": 1,
   "metadata": {},
   "outputs": [
    {
     "name": "stdout",
     "output_type": "stream",
     "text": [
      "['Tdf', 'Salta', 'Jujuy', 'Santa Cruz', 'Neuquen']\n"
     ]
    }
   ],
   "source": [
    "prov_argentinas = [\"Tdf\", \"Salta\", \"Jujuy\", \"Santa Cruz\", \"Neuquen\"]\n",
    "print(prov_argentinas)"
   ]
  }
 ],
 "metadata": {
  "kernelspec": {
   "display_name": "Python 3",
   "language": "python",
   "name": "python3"
  },
  "language_info": {
   "codemirror_mode": {
    "name": "ipython",
    "version": 3
   },
   "file_extension": ".py",
   "mimetype": "text/x-python",
   "name": "python",
   "nbconvert_exporter": "python",
   "pygments_lexer": "ipython3",
   "version": "3.12.3"
  }
 },
 "nbformat": 4,
 "nbformat_minor": 2
}
