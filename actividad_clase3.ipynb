{
 "cells": [
  {
   "cell_type": "markdown",
   "metadata": {},
   "source": [
    "## Actividades Clase 3"
   ]
  },
  {
   "cell_type": "markdown",
   "metadata": {},
   "source": [
    "#Ejercitación de datos simples y complejos con Jupiter Notebook, Git y Github"
   ]
  },
  {
   "cell_type": "markdown",
   "metadata": {},
   "source": [
    "Crear una lista de nombres de ciudades."
   ]
  },
  {
   "cell_type": "code",
   "execution_count": 1,
   "metadata": {},
   "outputs": [
    {
     "name": "stdout",
     "output_type": "stream",
     "text": [
      "['Rosario', 'Ushuaia', 'Rio Grande', 'El Calafate', 'San Rafael']\n"
     ]
    }
   ],
   "source": [
    "ciudades_argentinas = [\"Rosario\", \"Ushuaia\", \"Rio Grande\", \"El Calafate\", \"San Rafael\"]\n",
    "print(ciudades_argentinas)"
   ]
  },
  {
   "cell_type": "markdown",
   "metadata": {},
   "source": [
    "Crear un diccionario con información de empleados (nombre, cargo, salario)."
   ]
  },
  {
   "cell_type": "code",
   "execution_count": 2,
   "metadata": {},
   "outputs": [
    {
     "name": "stdout",
     "output_type": "stream",
     "text": [
      "{'empleado1': {'nombre': 'Juan Luzuriaga', 'cargo': 'Data Engineer', 'salario': 50000}, 'empleado2': {'nombre': 'María Sanchez', 'cargo': 'Data Analyst', 'salario': 30000}, 'empleado3': {'nombre': 'Pedro García', 'cargo': 'Data Scientist', 'salario': 40000}}\n"
     ]
    }
   ],
   "source": [
    "empleados = {\n",
    "    \"empleado1\": {\n",
    "        \"nombre\": \"Juan Luzuriaga\",\n",
    "        \"cargo\": \"Data Engineer\",\n",
    "        \"salario\": 50000\n",
    "    },\n",
    "    \"empleado2\": {\n",
    "        \"nombre\": \"María Sanchez\",\n",
    "        \"cargo\": \"Data Analyst\",\n",
    "        \"salario\": 30000\n",
    "    },\n",
    "    \"empleado3\": {\n",
    "        \"nombre\": \"Pedro García\",\n",
    "        \"cargo\": \"Data Scientist\",\n",
    "        \"salario\": 40000\n",
    "    }\n",
    "}\n",
    "\n",
    "print(empleados)"
   ]
  },
  {
   "cell_type": "markdown",
   "metadata": {},
   "source": [
    "Mostrar cómo acceder a un elemento específico en una lista y en un diccionario."
   ]
  },
  {
   "cell_type": "code",
   "execution_count": 4,
   "metadata": {},
   "outputs": [
    {
     "name": "stdout",
     "output_type": "stream",
     "text": [
      "Rio Grande\n"
     ]
    }
   ],
   "source": [
    "print(ciudades_argentinas[2])"
   ]
  },
  {
   "cell_type": "code",
   "execution_count": 10,
   "metadata": {},
   "outputs": [
    {
     "name": "stdout",
     "output_type": "stream",
     "text": [
      "Data Engineer\n"
     ]
    }
   ],
   "source": [
    "print(empleados[\"empleado1\"][\"cargo\"])"
   ]
  }
 ],
 "metadata": {
  "kernelspec": {
   "display_name": "Python 3",
   "language": "python",
   "name": "python3"
  },
  "language_info": {
   "codemirror_mode": {
    "name": "ipython",
    "version": 3
   },
   "file_extension": ".py",
   "mimetype": "text/x-python",
   "name": "python",
   "nbconvert_exporter": "python",
   "pygments_lexer": "ipython3",
   "version": "3.12.3"
  }
 },
 "nbformat": 4,
 "nbformat_minor": 2
}
