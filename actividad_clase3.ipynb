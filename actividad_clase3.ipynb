{
 "cells": [
  {
   "cell_type": "markdown",
   "metadata": {},
   "source": [
    "# Actividades Clase 3"
   ]
  },
  {
   "cell_type": "markdown",
   "metadata": {},
   "source": [
    "#### Ejercitación de datos simples y complejos con Jupiter Notebook, Git y Github"
   ]
  },
  {
   "cell_type": "markdown",
   "metadata": {},
   "source": [
    "Ejercicios de Datos Complejos:\n",
    "1. Datos Simples:"
   ]
  },
  {
   "cell_type": "markdown",
   "metadata": {},
   "source": [
    "Crear una lista de nombres de ciudades."
   ]
  },
  {
   "cell_type": "code",
   "execution_count": 26,
   "metadata": {},
   "outputs": [
    {
     "name": "stdout",
     "output_type": "stream",
     "text": [
      "['Rosario', 'Ushuaia', 'Rio Grande', 'El Calafate', 'San Rafael']\n"
     ]
    }
   ],
   "source": [
    "ciudades_argentinas = [\"Rosario\", \"Ushuaia\", \"Rio Grande\", \"El Calafate\", \"San Rafael\"]\n",
    "print(ciudades_argentinas)"
   ]
  },
  {
   "cell_type": "markdown",
   "metadata": {},
   "source": [
    "Crear un diccionario con información de empleados (nombre, cargo, salario)."
   ]
  },
  {
   "cell_type": "code",
   "execution_count": 27,
   "metadata": {},
   "outputs": [
    {
     "name": "stdout",
     "output_type": "stream",
     "text": [
      "{'empleado1': {'nombre': 'Juan Luzuriaga', 'cargo': 'Data Engineer', 'salario': 50000}, 'empleado2': {'nombre': 'María Sanchez', 'cargo': 'Data Analyst', 'salario': 30000}, 'empleado3': {'nombre': 'Pedro García', 'cargo': 'Data Scientist', 'salario': 40000}}\n"
     ]
    }
   ],
   "source": [
    "empleados = {\n",
    "    \"empleado1\": {\n",
    "        \"nombre\": \"Juan Luzuriaga\",\n",
    "        \"cargo\": \"Data Engineer\",\n",
    "        \"salario\": 50000\n",
    "    },\n",
    "    \"empleado2\": {\n",
    "        \"nombre\": \"María Sanchez\",\n",
    "        \"cargo\": \"Data Analyst\",\n",
    "        \"salario\": 30000\n",
    "    },\n",
    "    \"empleado3\": {\n",
    "        \"nombre\": \"Pedro García\",\n",
    "        \"cargo\": \"Data Scientist\",\n",
    "        \"salario\": 40000\n",
    "    }\n",
    "}\n",
    "\n",
    "print(empleados)"
   ]
  },
  {
   "cell_type": "markdown",
   "metadata": {},
   "source": [
    "Mostrar cómo acceder a un elemento específico en una lista y en un diccionario."
   ]
  },
  {
   "cell_type": "code",
   "execution_count": 28,
   "metadata": {},
   "outputs": [
    {
     "name": "stdout",
     "output_type": "stream",
     "text": [
      "Rio Grande\n"
     ]
    }
   ],
   "source": [
    "print(ciudades_argentinas[2])"
   ]
  },
  {
   "cell_type": "code",
   "execution_count": 29,
   "metadata": {},
   "outputs": [
    {
     "name": "stdout",
     "output_type": "stream",
     "text": [
      "Data Engineer\n"
     ]
    }
   ],
   "source": [
    "print(empleados[\"empleado1\"][\"cargo\"])"
   ]
  },
  {
   "cell_type": "markdown",
   "metadata": {},
   "source": [
    "1. Manipulación de Listas y Métodos:\n",
    "\n",
    "Crea una lista inicial de números enteros.\n"
   ]
  },
  {
   "cell_type": "code",
   "execution_count": 30,
   "metadata": {},
   "outputs": [
    {
     "name": "stdout",
     "output_type": "stream",
     "text": [
      "[1, 3, 5, 7, 9, 11, 13, 15, 17, 19, 21]\n"
     ]
    }
   ],
   "source": [
    "numeros = [1,3,5,7,9,11,13,15,17,19,21]\n",
    "print(numeros)"
   ]
  },
  {
   "cell_type": "markdown",
   "metadata": {},
   "source": [
    "Utiliza el método .append() para agregar un número al final de la lista.\n"
   ]
  },
  {
   "cell_type": "code",
   "execution_count": 31,
   "metadata": {},
   "outputs": [
    {
     "name": "stdout",
     "output_type": "stream",
     "text": [
      "[1, 3, 5, 7, 9, 11, 13, 15, 17, 19, 21, 23]\n"
     ]
    }
   ],
   "source": [
    "numeros.append(23)\n",
    "print(numeros)"
   ]
  },
  {
   "cell_type": "markdown",
   "metadata": {},
   "source": [
    "Utiliza el método .extend() para agregar múltiples elementos a la lista.\n"
   ]
  },
  {
   "cell_type": "code",
   "execution_count": 32,
   "metadata": {},
   "outputs": [
    {
     "name": "stdout",
     "output_type": "stream",
     "text": [
      "[1, 3, 5, 7, 9, 11, 13, 15, 17, 19, 21, 23, 2, 4, 6, 8]\n"
     ]
    }
   ],
   "source": [
    "numeros.extend([2,4,6,8])\n",
    "print(numeros)"
   ]
  },
  {
   "cell_type": "markdown",
   "metadata": {},
   "source": [
    "Utiliza el método .insert() para insertar un número en una posición específica de la lista."
   ]
  },
  {
   "cell_type": "code",
   "execution_count": 33,
   "metadata": {},
   "outputs": [
    {
     "name": "stdout",
     "output_type": "stream",
     "text": [
      "[1, 3, 5, 7, 9, 10, 11, 13, 15, 17, 19, 21, 23, 2, 4, 6, 8]\n"
     ]
    }
   ],
   "source": [
    "numeros.insert(5,10)\n",
    "print(numeros)"
   ]
  },
  {
   "cell_type": "markdown",
   "metadata": {},
   "source": [
    "Muestra cómo utilizar el método .sort() para ordenar la lista de números de forma ascendente."
   ]
  },
  {
   "cell_type": "code",
   "execution_count": 34,
   "metadata": {},
   "outputs": [
    {
     "name": "stdout",
     "output_type": "stream",
     "text": [
      "[1, 2, 3, 4, 5, 6, 7, 8, 9, 10, 11, 13, 15, 17, 19, 21, 23]\n"
     ]
    }
   ],
   "source": [
    "numeros.sort()\n",
    "print(numeros)"
   ]
  },
  {
   "cell_type": "markdown",
   "metadata": {},
   "source": [
    "2. Manipulación de Diccionarios y Métodos:"
   ]
  },
  {
   "cell_type": "markdown",
   "metadata": {},
   "source": [
    "Crea un diccionario con información de productos (nombre del producto, precio, cantidad en stock)."
   ]
  },
  {
   "cell_type": "code",
   "execution_count": 36,
   "metadata": {},
   "outputs": [
    {
     "name": "stdout",
     "output_type": "stream",
     "text": [
      "{'articulo1': {'nombre del producto': 'Botines', 'precio': '80000', 'cantidad de stock': 200}, 'articulo2': {'nombre del producto': 'Medias', 'precio': '8000', 'cantidad de stock': 250}, 'articulo3': {'nombre del producto': 'Canilleras', 'precio': '12000', 'cantidad de stock': 150}}\n"
     ]
    }
   ],
   "source": [
    "productos = {\n",
    "    \"articulo1\" : {\n",
    "        \"nombre del producto\" : \"Botines\",\n",
    "        \"precio\" : \"80000\",\n",
    "        \"cantidad de stock\" : 200,\n",
    "    },\n",
    "    \"articulo2\" : {\n",
    "        \"nombre del producto\" : \"Medias\",\n",
    "        \"precio\" : \"8000\",\n",
    "        \"cantidad de stock\" : 250,\n",
    "    },\n",
    "    \"articulo3\" : {\n",
    "        \"nombre del producto\" : \"Canilleras\",\n",
    "        \"precio\" : \"12000\",\n",
    "        \"cantidad de stock\" : 150,\n",
    "    }\n",
    "}\n",
    "\n",
    "print(productos)"
   ]
  },
  {
   "cell_type": "markdown",
   "metadata": {},
   "source": [
    "Utiliza el método .keys() para obtener una lista de las llaves (nombres de productos) en el diccionario."
   ]
  },
  {
   "cell_type": "code",
   "execution_count": 42,
   "metadata": {},
   "outputs": [
    {
     "name": "stdout",
     "output_type": "stream",
     "text": [
      "dict_keys(['articulo1', 'articulo2', 'articulo3'])\n"
     ]
    }
   ],
   "source": [
    "claves = productos.keys()\n",
    "print(claves)"
   ]
  },
  {
   "cell_type": "markdown",
   "metadata": {},
   "source": [
    "Utiliza el método .values() para obtener una lista de los valores (precios y cantidades) en el diccionario."
   ]
  },
  {
   "cell_type": "code",
   "execution_count": 39,
   "metadata": {},
   "outputs": [
    {
     "name": "stdout",
     "output_type": "stream",
     "text": [
      "dict_values([{'nombre del producto': 'Botines', 'precio': '80000', 'cantidad de stock': 200}, {'nombre del producto': 'Medias', 'precio': '8000', 'cantidad de stock': 250}, {'nombre del producto': 'Canilleras', 'precio': '12000', 'cantidad de stock': 150}])\n"
     ]
    }
   ],
   "source": [
    "valores = productos.values()\n",
    "print(valores)"
   ]
  },
  {
   "cell_type": "markdown",
   "metadata": {},
   "source": [
    "Utiliza el método .items() para obtener una lista de tuplas con pares clave-valor del diccionario."
   ]
  },
  {
   "cell_type": "code",
   "execution_count": 40,
   "metadata": {},
   "outputs": [
    {
     "name": "stdout",
     "output_type": "stream",
     "text": [
      "dict_items([('articulo1', {'nombre del producto': 'Botines', 'precio': '80000', 'cantidad de stock': 200}), ('articulo2', {'nombre del producto': 'Medias', 'precio': '8000', 'cantidad de stock': 250}), ('articulo3', {'nombre del producto': 'Canilleras', 'precio': '12000', 'cantidad de stock': 150})])\n"
     ]
    }
   ],
   "source": [
    "items_productos = productos.items()\n",
    "print(items_productos)"
   ]
  },
  {
   "cell_type": "markdown",
   "metadata": {},
   "source": [
    "Muestra cómo utilizar el método .get() para obtener el precio de un producto específico del diccionario."
   ]
  },
  {
   "cell_type": "code",
   "execution_count": 51,
   "metadata": {},
   "outputs": [
    {
     "name": "stdout",
     "output_type": "stream",
     "text": [
      "El precio de Canilleras es: $12000\n"
     ]
    }
   ],
   "source": [
    "nombre_prod = productos.get(\"articulo3\").get(\"nombre del producto\")\n",
    "precio = productos.get(\"articulo3\").get(\"precio\")\n",
    "print(f\"El precio de {nombre_prod} es: ${precio}\")"
   ]
  },
  {
   "cell_type": "markdown",
   "metadata": {},
   "source": [
    "2. Datos Complejos:"
   ]
  },
  {
   "cell_type": "markdown",
   "metadata": {},
   "source": [
    "Crear una lista de diccionarios que represente información de libros (título, autor, año de publicación)."
   ]
  },
  {
   "cell_type": "code",
   "execution_count": 53,
   "metadata": {},
   "outputs": [
    {
     "name": "stdout",
     "output_type": "stream",
     "text": [
      "{'book1': {'titulo': 'Cien años de soledad', 'autor': 'Gabriel Garcia Marquez', 'publicado': '1967'}, 'book2': {'titulo': '1984', 'autor': 'George Orwell', 'publicado': '1949'}, 'book3': {'titulo': 'El Señor de los Anillos', 'autor': 'J.R.R Tolkien', 'publicado': '1955'}}\n"
     ]
    }
   ],
   "source": [
    "libros = {\n",
    "    \"book1\" : {\"titulo\":\"Cien años de soledad\", \"autor\":\"Gabriel Garcia Marquez\", \"publicado\":\"1967\"},\n",
    "    \"book2\" : {\"titulo\":\"1984\", \"autor\":\"George Orwell\", \"publicado\":\"1949\"},\n",
    "    \"book3\" : {\"titulo\":\"El Señor de los Anillos\", \"autor\":\"J.R.R Tolkien\", \"publicado\":\"1955\"}\n",
    "}\n",
    "print(libros)"
   ]
  },
  {
   "cell_type": "markdown",
   "metadata": {},
   "source": [
    "Crear un diccionario que contenga listas como valores (por ejemplo, un diccionario de estudiantes y sus materias)."
   ]
  },
  {
   "cell_type": "code",
   "execution_count": 55,
   "metadata": {},
   "outputs": [
    {
     "name": "stdout",
     "output_type": "stream",
     "text": [
      "{'Toyota': ['Corolla', 'Camry', 'Hilux'], 'Honda': ['Civic', 'City', 'Fit'], 'Fiat': ['Argo', 'Cronos', 'Fiorino']}\n"
     ]
    }
   ],
   "source": [
    "autos = {\n",
    "    \"Toyota\": [\"Corolla\", \"Camry\", \"Hilux\"],\n",
    "    \"Honda\": [\"Civic\", \"City\", \"Fit\"],\n",
    "    \"Fiat\": [\"Argo\",\"Cronos\",\"Fiorino\"]\n",
    "}\n",
    "print(autos)"
   ]
  },
  {
   "cell_type": "markdown",
   "metadata": {},
   "source": [
    "Mostrar cómo modificar un valor en una lista dentro de un diccionario y viceversa."
   ]
  },
  {
   "cell_type": "code",
   "execution_count": 57,
   "metadata": {},
   "outputs": [
    {
     "name": "stdout",
     "output_type": "stream",
     "text": [
      "{'Alumno1': ['Matematicas', 'Ingles', 'Fisica'], 'Alumno2': ['Programacion', 'Base de Datos', 'Biologia'], 'Alumno3': ['Arte', 'Ciencia de Datos', 'Etica']}\n"
     ]
    }
   ],
   "source": [
    "alumnos_materias = {\n",
    "    \"Alumno1\": [\"Matematicas\", \"Ingles\", \"Fisica\"],\n",
    "    \"Alumno2\": [\"Programacion\", \"Ingles\", \"Biologia\"],\n",
    "    \"Alumno3\": [\"Arte\",\"Ciencia de Datos\",\"Etica\"]\n",
    "}\n",
    "\n",
    "alumnos_materias[\"Alumno2\"][1] = \"Base de Datos\"\n",
    "print(alumnos_materias)\n"
   ]
  }
 ],
 "metadata": {
  "kernelspec": {
   "display_name": "Python 3",
   "language": "python",
   "name": "python3"
  },
  "language_info": {
   "codemirror_mode": {
    "name": "ipython",
    "version": 3
   },
   "file_extension": ".py",
   "mimetype": "text/x-python",
   "name": "python",
   "nbconvert_exporter": "python",
   "pygments_lexer": "ipython3",
   "version": "3.12.3"
  }
 },
 "nbformat": 4,
 "nbformat_minor": 2
}
